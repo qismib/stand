{
 "cells": [
  {
   "cell_type": "markdown",
   "id": "675ac566",
   "metadata": {},
   "source": [
    "# Trotter error analysis for the Heisenberg Hamiltonian\n",
    "Recap of code and estimates for the first and second order Trotter error scaling as a function of the parameters of the system.\\\n",
    "I estimate:\n",
    "* Single-step Trotter error bounds.\n",
    "* Trotter error after $r$ steps.\n",
    "\n",
    "For each bound, I provide estimates for the scaling laws of each contribution to the error.\n",
    "For the single-step error, I assume a scaling of the form:\n",
    "$$\n",
    "\\epsilon_\\alpha(dt)\\leq\\mathcal{O}\\left(\\mathcal{G}^{S_1^\\alpha}N^{S_2^\\alpha}dt^{S_3^\\alpha}\\right)\\equiv e_\\alpha(N, dt, \\{g_{ij}, i,j=1,\\dots,N, i<j\\}),\\quad\\alpha=1,2 \\tag{1}\n",
    "$$\n",
    "For the total error, I assume a scaling of the form:\n",
    "$$\n",
    "\\epsilon_\\alpha(T)=r\\cdot\\epsilon(dt)\\leq\\mathcal{O}\\left(\\mathcal{G}^{T_1^\\alpha}N^{T_2^\\alpha}T^{T_3^\\alpha}r^{T_4^\\alpha}\\right)\\equiv E_\\alpha(N, T, r, \\{g_{ij}, i,j=1,\\dots,N, i<j\\}),\\quad\\alpha=1,2 \\tag{2}\n",
    "$$\n",
    "where $r = T/dt$.\n",
    "\n",
    "I discuss later why I define stuff like this."
   ]
  },
  {
   "cell_type": "markdown",
   "id": "972c6c45",
   "metadata": {},
   "source": [
    "## Error estimate formulas\n",
    "To provide bounds for the additive Trotter error I use Proposition 9 and 10 in https://journals.aps.org/prx/pdf/10.1103/PhysRevX.11.011020 (Theory of Trotter Error with Commutator Scaling):\n",
    "* first order: $\\varepsilon_1(t)\\coloneqq\\left\\| \\mathscr{S}_1(t) - e^{-i t H} \\right\\| \\leq \\frac{t^2}{2} \\sum_{\\gamma_1=1}^{\\Gamma}  \\left\\| \\left[ \\sum_{\\gamma_2 = \\gamma_1 + 1}^{\\Gamma}H_{\\gamma_2}, H_{\\gamma_1} \\right] \\right\\|$ \n",
    "* second order: $\\varepsilon_2(t)\\coloneqq\\left\\| \\mathscr{S}_2(t) - e^{-i t H} \\right\\| \\leq \\; \\frac{t^3}{12} \\sum_{\\gamma_1=1}^{\\Gamma}  \\left\\| \\left[ \\sum_{\\gamma_3 = \\gamma_1 + 1}^{\\Gamma}H_{\\gamma_3}, \\sum_{\\gamma_2 = \\gamma_1 + 1}^{\\Gamma} \\left[ H_{\\gamma_2}, H_{\\gamma_1} \\right] \\right] \\right\\| + \\frac{t^3}{24} \\sum_{\\gamma_1=1}^{\\Gamma} \\left\\| \\left[ H_{\\gamma_1}, \\left[ H_{\\gamma_1}, \\sum_{\\gamma_2 = \\gamma_1 + 1}^{\\Gamma} H_{\\gamma_2} \\right] \\right] \\right\\|$\n",
    "\n",
    "The $N$ qubit Heisenberg Hamiltonian, the target Hamiltonian of my simulation, is given below together with its decomposition in analog blocks:\n",
    "$$\n",
    "H_\\text{Heisenberg}^N = \\sum_{\\substack{p,q=1\\\\p<q}}g_{pq}\\left(X_pX_q+Y_pY_q+Z_pZ_q\\right) \\equiv H_{XY}^N+H_{XZ}^N+H_{YZ}^N \\tag{3}\n",
    "$$\n",
    "where $H_{AB}^N \\equiv \\sum_{\\substack{p,q=1\\\\p<q}}\\frac{g_{pq}}{2}\\left(A_pA_q+B_pB_q\\right)$.\n",
    "\n",
    "The structure of the simulation algorithm I specialize these formulas to the $\\Gamma=3$ case (see section 4.3 in latex notes):\n",
    "* first order: $$\\varepsilon_1(t)\\leq\\frac{t^2}{2}\\left\\{\\|[B_N,A_N]\\|+\\|[C_N,A_N]\\|+\\|[C_N,B_N]\\|\\right\\} \\tag{4}$$\n",
    "* second order: \n",
    "$$\n",
    "\\begin{split}\n",
    "&\\varepsilon_2(t)\\leq\\frac{t^3}{12}\\Bigl\\{\\|[B_N,[B_N,A_N]]\\|+\\|[B_N,[C_N,A_N]]\\|+\\|[C_N,[B_N,A_N]]\\|+\\|[C_N,[C_N,A_N]]\\|+\\|[C_N,[C_N,B_N]]\\|\\Bigr\\}+\\\\\n",
    "&\\qquad\\qquad+\\frac{t^3}{24}\\Bigl\\{\\|[A_N,[A_N,B_N]]\\|+\\|[A_N,[A_N,C_N]]\\|+\\|[B_N,[B_N,C_N]]\\|\\Bigr\\}\n",
    "\\end{split} \\tag{5}\n",
    "$$\n",
    "\n",
    "where $A_N=-iH_{XY}^{(N)},\\quad B_N=-iH_{XZ}^{(N)},\\quad C_N=-iH_{YZ}^{(N)}$.\n",
    "\n",
    "In the following sections, I use these formulas to provide upper bounds for the scaling of the Trotter error."
   ]
  },
  {
   "cell_type": "markdown",
   "id": "1b24f0a1",
   "metadata": {},
   "source": [
    "## Commutator evaluators\n",
    "I have been developing a series of tools that allow me to compute explicitly the commutators involved in $(4)$ and $(5)$.\n",
    "\n",
    "I need to implement functions that compute the commutators symbolically, with the additional option of computing the numerical results, given additional informations about the system's parameters.\n",
    "\n",
    "### Conventions and `gen_Heisenberg_terms.py`.\n",
    "The first step consists in providing means to represent and compute the terms that appear in each contribution in $(3)$ (I use $A_N,B_N,C_N$ as names because they are the ones actually involved in the commutators, even tough the function computes $H_{XY}^N, H_{XZ}^N, H_{YZ}^N$. But the spectral norm is the same whether we I compute commutators of the first set of objects or the second one because the $i$ factors ampunt to a multiplicative $1$ when taken out of the spectral norms). \n",
    "\n",
    "I choose to represent these terms as lists of tuples, where each tuple represents a single term as \n",
    "```(scalar coefficient (float), coupling coefficient (string), Pauli string (string))```\n",
    "The `gen_Heisenberg_terms.py` function then generates $A_N,B_N,C_N$ according to the above definitions."
   ]
  },
  {
   "cell_type": "code",
   "execution_count": 124,
   "id": "77cfef67",
   "metadata": {},
   "outputs": [
    {
     "data": {
      "text/plain": [
       "[(0.5, 'g12', 'XXI'),\n",
       " (0.5, 'g12', 'YYI'),\n",
       " (0.5, 'g13', 'XIX'),\n",
       " (0.5, 'g13', 'YIY'),\n",
       " (0.5, 'g23', 'IXX'),\n",
       " (0.5, 'g23', 'IYY')]"
      ]
     },
     "execution_count": 124,
     "metadata": {},
     "output_type": "execute_result"
    }
   ],
   "source": [
    "def gen_Heisenberg_terms(N):\n",
    "        XY = [] \n",
    "        XZ = []   \n",
    "        YZ = [] \n",
    "\n",
    "        for i in range(N):\n",
    "            for j in range(i + 1, N):\n",
    "                gate_id = f\"g{i+1}{j+1}\" \n",
    "\n",
    "                xx_term = [\"X\" if k == i or k == j else \"I\" for k in range(N)]\n",
    "                yy_term = [\"Y\" if k == i or k == j else \"I\" for k in range(N)]\n",
    "                zz_term = [\"Z\" if k == i or k == j else \"I\" for k in range(N)]\n",
    "\n",
    "                XY.append((0.5, gate_id, \"\".join(xx_term)))\n",
    "                XY.append((0.5, gate_id, \"\".join(yy_term)))\n",
    "\n",
    "                XZ.append((0.5, gate_id, \"\".join(xx_term)))\n",
    "                XZ.append((0.5, gate_id, \"\".join(zz_term)))\n",
    "\n",
    "                YZ.append((0.5, gate_id, \"\".join(yy_term)))\n",
    "                YZ.append((0.5, gate_id, \"\".join(zz_term)))\n",
    "\n",
    "        return XY, XZ, YZ\n",
    "\n",
    "A3, B3, C3 = gen_Heisenberg_terms(3)\n",
    "A3"
   ]
  },
  {
   "cell_type": "markdown",
   "id": "0abe0c3c",
   "metadata": {},
   "source": [
    "### Commutators of linear combination of Pauli strings\n",
    "At this point I want to implement functions that compute the commutators of generic sequences combinations of Pauli strings. I choose not to approach this tasks by computing the commutators via matrix multiplication because I couldn't see how to include symbolic couplings in the scheme.\n",
    "\n",
    "Because of this, I choose to implement the calculation of Pauli strings commutators by hard coding the rules that govern the commutators between individual Pauli strings.\n",
    "\n",
    "Consider two Pauli N-strings \n",
    "$$\n",
    "M_1 = P_1\\otimes \\dots \\otimes P_N, \\quad M_2 = Q_1\\otimes \\dots \\otimes Q_N\n",
    "$$\n",
    "where $P_k,Q_k\\in\\{\\mathbb{I}_k,X_k,Y_k,Z_k\\}$. Their commutator reads:\n",
    "$$\n",
    "\\begin{split}\n",
    "    & [M_1,M_2] = M_1M_2-M_2M_1 \\\\\n",
    "    & \\qquad = (P_1Q_1)\\otimes \\dots \\otimes (P_NQ_N)-(Q_1P_1)\\otimes \\dots \\otimes (Q_NP_N)\n",
    "\\end{split}\n",
    "$$\n",
    "Here I recall the key multiplication rule of Pauli operators: two Pauli matrices (including the identity) $P,Q$ are always such that\n",
    "$$\n",
    "PQ=\\pm QP\n",
    "$$ \n",
    "with $+$ when they are equal or one of them is the identity, and $-$ otherwise. I have that:\n",
    "$$\n",
    "PQ = (-1)^{N_\\text{anticommuting}}QP \\tag{6}\n",
    "$$\n",
    "Hence, to determine whether the commutator of two arbitrary strings is null I have to count the pairs of single qubit operators that anticommute in a non-trivial way; considering a pair of Pauli operators $P_k$, $Q_k$ at site $k$, $N_\\text{anticommuting}$ is increased only if $P_k\\neq Q_k$ and both differ from the identity.\n",
    "\n"
   ]
  },
  {
   "cell_type": "code",
   "execution_count": 125,
   "id": "b5f5dd9c",
   "metadata": {},
   "outputs": [],
   "source": [
    "pauli_mult_table = {\n",
    "    ('I', 'I'): (1, 'I'),\n",
    "    ('I', 'X'): (1, 'X'),\n",
    "    ('I', 'Y'): (1, 'Y'),\n",
    "    ('I', 'Z'): (1, 'Z'),\n",
    "    ('X', 'I'): (1, 'X'),\n",
    "    ('Y', 'I'): (1, 'Y'),\n",
    "    ('Z', 'I'): (1, 'Z'),\n",
    "    ('X', 'X'): (1, 'I'),\n",
    "    ('Y', 'Y'): (1, 'I'),\n",
    "    ('Z', 'Z'): (1, 'I'),\n",
    "    ('Y', 'Z'): (+1j, 'X'),\n",
    "    ('X', 'Y'): (+1j, 'Z'),\n",
    "    ('Z', 'X'): (+1j, 'Y'),\n",
    "    ('Y', 'X'): (-1j, 'Z'),\n",
    "    ('Z', 'Y'): (-1j, 'X'),\n",
    "    ('X', 'Z'): (-1j, 'Y'),\n",
    "    ('0', 'I'): (0, '0'),\n",
    "    ('0', 'X'): (0, '0'),\n",
    "    ('0', 'Y'): (0, '0'),\n",
    "    ('X', '0'): (0, '0'),\n",
    "    ('I', '0'): (0, '0'),\n",
    "    ('X', '0'): (0, '0'),\n",
    "    ('Y', '0'): (0, '0'),\n",
    "    ('Z', '0'): (0, '0')\n",
    "}"
   ]
  },
  {
   "cell_type": "markdown",
   "id": "dd6a65ab",
   "metadata": {},
   "source": [
    "### How `comm_pstr` works.\n",
    "The `comm_pstr` function computes the commutator of two generic Pauli strings. The arguments of the function are Pauli strings `pstr1`, `pstr2` given in the format set in the conventions. \n",
    "\n",
    "First, I create variables `ps1`, `ps2` for the both individual Pauli strings. Then I create additional variables to keep track of the various bits involved in the commutator:\n",
    "* `coeff`: numerical coefficient of the resulting Pauli string. Its initial value is given by the product of the numerical coefficients of the input strings.\n",
    "* `psfinal`: the Pauli string that results from the commutator.\n",
    "* `acomm_cnt`: number of anticommuting sites, determined as described in the previous section.\n",
    "\n",
    "Then, I loop over the characters of the Pauli strings to determine how each pair contributes to the coefficient and whether the pair anticommutes. The anticommuting check can only happen after looping over the strings at least once, hence the main loop also determines the Pauli operator that results from the individual pair. This operation is performed using the `pauli_mult_table` dictionary defined above; corresponds to $N_\\text{anticommuting}$ of equation $(6)$. \n",
    "\n",
    "**Example 1**: $N=3$, $P_1 = X_1X_2 = X\\otimes X\\otimes I$, $P_2 = Y_2Y_3 = I\\otimes Y\\otimes Y$. Their commutator is easily found:\n",
    "$$\n",
    "\\left[P_1,P_2\\right] = (XI)\\otimes(XY)\\otimes(IY)-(IX)\\otimes(YX)\\otimes(YI) = X\\otimes(XY-YX)\\otimes Y = X\\otimes[X,Y]\\otimes Y = 2iX_1Z_2Y_3\n",
    "$$\n",
    "&emsp;&emsp;&emsp;&emsp;&emsp;This is the \"standard\" way to compute this commutator. A slightly different way of getting this result gives a great insight in my way of implementing the commutation rules: using the `pauli_mult_table` &emsp;&emsp;&emsp;&emsp;&emsp;rules\n",
    "$$\n",
    "\\left[P_1,P_2\\right] = X\\otimes(XY-YX)\\otimes Y = X\\otimes(iZ - (-iZ))\\otimes Y = 2\\cdot\\left(X\\otimes(iZ)\\otimes Y\\right) = 2iX_1Z_2Y_3\n",
    "$$\n",
    "\n",
    "**Example 2**: $N=5$, $P_1 = X_1X_2X_3X_4 = X\\otimes X\\otimes X\\otimes X\\otimes I$, $P_2 = Y_2Y_3Y_4Y_5 = I\\otimes Y\\otimes Y\\otimes Y\\otimes Y$.\n",
    "$$\n",
    "\\begin{split}\n",
    "& \\left[P_1,P_2\\right] = (XI)\\otimes(XY)\\otimes(XY)\\otimes(XY)\\otimes(IY)-(IX)\\otimes(YX)\\otimes(YX)\\otimes(YX)\\otimes(YI) = \\\\\n",
    "& \\qquad = X\\otimes(\\underbrace{(XY)}_{iZ}\\underbrace{(XY)}_{iZ}\\underbrace{(XY)}_{iZ}-\\underbrace{(YX)}_{-iZ})\\underbrace{(YX)}_{-iZ})\\underbrace{(YX)}_{-iZ})\\otimes Y \\\\\n",
    "& \\qquad = X_1\\otimes i^3\\left(Z_2Z_3Z_4-(-1)^3 Z_2Z_3Z_4\\right)\\otimes Y_5 \\\\\n",
    "& \\qquad = i^3 X_1\\otimes\\left(Z_2Z_3Z_4 + Z_2Z_3Z_4\\right)\\otimes Y_5 \\\\\n",
    "& \\qquad = -2i X_1Z_2Z_3Z_4Y_5\\\\\n",
    "\\end{split}\n",
    "$$\n",
    "&emsp;&emsp;&emsp;&emsp;&emsp;Note that the numerical coefficient is $2$ instead of $2^3$, which might be the initial guess since there are $3$ non-trivial pairs.\n",
    "\n",
    "These examples elucidate the working of the `comm_pstr` function, which essentially replicates the logic of my way of computing the commutators. Note that the $2$ factor is included separately at the end.\n",
    "\n"
   ]
  },
  {
   "cell_type": "code",
   "execution_count": 126,
   "id": "e735df65",
   "metadata": {},
   "outputs": [],
   "source": [
    "def comm_pstr(pstr1, pstr2):\n",
    "    \"\"\"\n",
    "    `comm_pstr(self, pstr1, pstr2)`\n",
    "    pstr1, pstr2 (tuple): (numeric coefficient, couplings, individual Pauli string)\n",
    "\n",
    "    comm_pstr function computes the commutator [pstr1, pstr2], keeping track of resulting numeric coefficient and coupling combination.\n",
    "    return: (numeric coefficient, couplings, individual Pauli string) (tuple)\n",
    "    \"\"\"\n",
    "    ps1 = pstr1[2] # e.g. \"IXX\"\n",
    "    ps2 = pstr2[2] # e.g. \"YIY\"\n",
    "\n",
    "    coeff = pstr1[0] * pstr2[0]\n",
    "    psfinal = \"\"\n",
    "    acomm_cnt = 0\n",
    "\n",
    "    for i in range(len(ps1)):\n",
    "        p1 = ps1[i]\n",
    "        p2 = ps2[i]\n",
    "\n",
    "        if p1 != p2 and p1 != 'I' and p2 != 'I': acomm_cnt += 1\n",
    "\n",
    "        pair = pauli_mult_table[(p1, p2)]\n",
    "        coeff = coeff * pair[0]\n",
    "        psfinal += pair[1]\n",
    "\n",
    "    if acomm_cnt % 2 == 0 or '0' in psfinal:\n",
    "        return (0, \"\", '0'*len(ps1))\n",
    "    \n",
    "    return (2*coeff, f\"({pstr1[1]})({pstr2[1]})\", psfinal)\n",
    "\n",
    "def comm_lincombo(psum1, psum2):\n",
    "    \"\"\"\n",
    "    `comm_lincombo(self, psum1, psum2)`\n",
    "    psum1, psum2 (list of tuples): [(numeric coefficient 1, couplings 1, individual Pauli string 1), ...]\n",
    "\n",
    "    comm_lincombo computes the commutator of two sums of Pauli strings, keeping track of numerical coefficients and coupling powers.\n",
    "    return: [(resulting numeric coefficient 1, resulting couplings 1, resulting individual Pauli string 1), ...] (list of tuples)\n",
    "    \"\"\"\n",
    "    list_comm = []\n",
    "\n",
    "    for elem1 in psum1:\n",
    "        for elem2 in psum2:\n",
    "            res = comm_pstr(elem1, elem2)\n",
    "            if '0' not in res[2]: list_comm.append((res[0], res[1], res[2]))\n",
    "\n",
    "    return list_comm"
   ]
  },
  {
   "cell_type": "markdown",
   "id": "ae7e7f50",
   "metadata": {},
   "source": [
    "Test the functions by computing the commutators of the above examples."
   ]
  },
  {
   "cell_type": "code",
   "execution_count": 127,
   "id": "ffdd69f1",
   "metadata": {},
   "outputs": [
    {
     "data": {
      "text/plain": [
       "(2j, '(g12)(g23)', 'XZY')"
      ]
     },
     "execution_count": 127,
     "metadata": {},
     "output_type": "execute_result"
    }
   ],
   "source": [
    "# Example 1\n",
    "pstr1 = (1, \"g12\", \"XXI\")\n",
    "pstr2 = (1, \"g23\", \"IYY\")\n",
    "\n",
    "pstr_comm = comm_pstr(pstr1, pstr2)\n",
    "pstr_comm"
   ]
  },
  {
   "cell_type": "code",
   "execution_count": 128,
   "id": "e48fae4e",
   "metadata": {},
   "outputs": [
    {
     "data": {
      "text/plain": [
       "(-2j, '((g12)(g34))((g23)(g45))', 'XZZZY')"
      ]
     },
     "execution_count": 128,
     "metadata": {},
     "output_type": "execute_result"
    }
   ],
   "source": [
    "# Example 2\n",
    "pstr1 = (1, \"(g12)(g34)\", \"XXXXI\")\n",
    "pstr2 = (1, \"(g23)(g45)\", \"IYYYY\")\n",
    "\n",
    "pstr_comm = comm_pstr(pstr1, pstr2)\n",
    "pstr_comm"
   ]
  },
  {
   "cell_type": "markdown",
   "id": "f093ea2c",
   "metadata": {},
   "source": [
    "I briefly comment how `comm_lincombo` works. It takes as arguments two lists of tuples, representing linear combinations of Pauli strings, and computes their commutator using the linearity of the commutator in both entries with respect to summation and scalar multiplication. Given linear combination of Pauli strings $P$, $Q$ defined by\n",
    "$$\n",
    "P = \\sum_{m=1}^{l_P} a_mP_m, \\quad Q = \\sum_{n=1}^{l_Q} b_nQ_n \n",
    "$$\n",
    "where $a_m$, $b_n$ include both numerical coefficient and couplings. Their commutator is given by\n",
    "$$\n",
    "[P,Q] = \\left[\\sum_{m=1}^{l_P} a_mP_m,\\sum_{n=1}^{l_Q} b_nQ_n\\right] = \\sum_{m=1}^{l_P}\\sum_{n=1}^{l_Q}[a_mP_m,b_nQ_n]\n",
    "$$\n",
    "Each term is then handled using `comm_pstr`, and the result is stored in `list_comm` to be returned."
   ]
  },
  {
   "cell_type": "markdown",
   "id": "7a41a47f",
   "metadata": {},
   "source": [
    "### Test: 3 qubit commutators\n",
    "I have previously computed the 3 qubit commutators relevant to the computation of the Trotter error by hand. These provide a benchmark to test my functions.\n",
    "\n",
    "In the following I recall the analytical results:\n",
    "$$\n",
    "\\begin{split}\n",
    "    & [A_3,B_3] = \\frac{i}{2}\\Biggl\\{X_1Y_2Z_3\\left(g_{12}g_{13}-g_{12}g_{23}-g_{13}g_{23}\\right) +X_1Z_2Y_3\\left(g_{12}g_{13}-g_{12}g_{23}-g_{13}g_{23}\\right)+\\\\\n",
    "    & \\qquad+Y_1X_2Z_3\\left(-g_{12}g_{13}+g_{12}g_{23}-g_{13}g_{23}\\right)+Y_1Z_2X_3\\left(-g_{12}g_{13}-g_{12}g_{23}+g_{13}g_{23}\\right)+\\\\\n",
    "    & \\qquad+Z_1X_2Y_3\\left(-g_{12}g_{13}+g_{12}g_{23}-g_{13}g_{23}\\right)+Z_1Y_2X_3\\left(-g_{12}g_{13}-g_{12}g_{23}+g_{13}g_{23}\\right)\\Biggr\\}\n",
    "\\end{split}\n",
    "$$\n",
    "\n",
    "$$\n",
    "\\begin{split}\n",
    "    & [A_3,C_3] = \\frac{i}{2}\\Biggl\\{X_1Y_2Z_3\\left(g_{12}g_{13}-g_{12}g_{23}+g_{13}g_{23}\\right) +X_1Z_2Y_3\\left(g_{12}g_{13}+g_{12}g_{23}-g_{13}g_{23}\\right)+\\\\\n",
    "    & \\qquad+Y_1X_2Z_3\\left(-g_{12}g_{13}+g_{12}g_{23}+g_{13}g_{23}\\right)+Y_1Z_2X_3\\left(-g_{12}g_{13}+g_{12}g_{23}+g_{13}g_{23}\\right)+\\\\\n",
    "    & \\qquad+Z_1X_2Y_3\\left(g_{12}g_{13}+g_{12}g_{23}-g_{13}g_{23}\\right)+Z_1Y_2X_3\\left(g_{12}g_{13}-g_{12}g_{23}+g_{13}g_{23}\\right)\\Biggr\\}\n",
    "\\end{split}\n",
    "$$\n",
    "\n",
    "$$\n",
    "\\begin{split}\n",
    "    & [B_3,C_3] = \\frac{i}{2}\\Biggl\\{X_1Y_2Z_3\\left(-g_{12}g_{13}-g_{12}g_{23}+g_{13}g_{23}\\right) +X_1Z_2Y_3\\left(-g_{12}g_{13}+g_{12}g_{23}-g_{13}g_{23}\\right)+\\\\\n",
    "    & \\qquad+Y_1X_2Z_3\\left(-g_{12}g_{13}-g_{12}g_{23}+g_{13}g_{23}\\right)+Y_1Z_2X_3\\left(-g_{12}g_{13}+g_{12}g_{23}-g_{13}g_{23}\\right)+\\\\\n",
    "    & \\qquad+Z_1X_2Y_3\\left(g_{12}g_{13}-g_{12}g_{23}-g_{13}g_{23}\\right)+Z_1Y_2X_3\\left(g_{12}g_{13}-g_{12}g_{23}-g_{13}g_{23}\\right)\\Biggr\\}\\\\\n",
    "\\end{split}\n",
    "$$"
   ]
  },
  {
   "cell_type": "code",
   "execution_count": 129,
   "id": "17c6c7b0",
   "metadata": {},
   "outputs": [
    {
     "data": {
      "text/plain": [
       "[(-0.5j, '(g12)(g13)', 'YXZ'),\n",
       " (-0.5j, '(g12)(g23)', 'XYZ'),\n",
       " (-0.5j, '(g12)(g13)', 'ZYX'),\n",
       " (0.5j, '(g12)(g13)', 'XYZ'),\n",
       " (-0.5j, '(g12)(g23)', 'YZX'),\n",
       " (0.5j, '(g12)(g23)', 'YXZ'),\n",
       " (-0.5j, '(g13)(g12)', 'YZX'),\n",
       " (-0.5j, '(g13)(g23)', 'XZY'),\n",
       " (-0.5j, '(g13)(g12)', 'ZXY'),\n",
       " (0.5j, '(g13)(g12)', 'XZY'),\n",
       " (-0.5j, '(g13)(g23)', 'YXZ'),\n",
       " (0.5j, '(g13)(g23)', 'YZX'),\n",
       " (-0.5j, '(g23)(g12)', 'ZYX'),\n",
       " (-0.5j, '(g23)(g13)', 'ZXY'),\n",
       " (-0.5j, '(g23)(g12)', 'XZY'),\n",
       " (0.5j, '(g23)(g12)', 'ZXY'),\n",
       " (-0.5j, '(g23)(g13)', 'XYZ'),\n",
       " (0.5j, '(g23)(g13)', 'ZYX')]"
      ]
     },
     "execution_count": 129,
     "metadata": {},
     "output_type": "execute_result"
    }
   ],
   "source": [
    "A3B3 = comm_lincombo(A3,B3)\n",
    "A3C3 = comm_lincombo(A3,C3)\n",
    "B3C3 = comm_lincombo(B3,C3)\n",
    "\n",
    "A3B3"
   ]
  },
  {
   "cell_type": "markdown",
   "id": "76267a30",
   "metadata": {},
   "source": [
    "I implement the function `group_by_pauli_string` that collects terms with the same Pauli string. The output is a dictionary that associates each individual Pauli string present in the output to a list of lists, each of which represents a contribution to that string."
   ]
  },
  {
   "cell_type": "code",
   "execution_count": 130,
   "id": "b0218846",
   "metadata": {},
   "outputs": [],
   "source": [
    "def group_by_pauli_string(comm, N):\n",
    "\n",
    "    def is_coeff_equal(str1, str2):\n",
    "        pair1 = str1.split(\")(\")        \n",
    "        pair2 = str2.split(\")(\")\n",
    "        pair1 = [p.strip('(').strip(')').strip('g') for p in pair1]\n",
    "        pair2 = [p.strip('(').strip(')').strip('g') for p in pair2]\n",
    "\n",
    "        return sorted(pair1) == sorted(pair2)\n",
    "        \n",
    "    list_terms = {}\n",
    "    for term in comm:\n",
    "        if term[2] != \"0\"*N:\n",
    "            if term[2] not in list_terms:\n",
    "                list_terms[term[2]] = [[term[0], term[1]]]\n",
    "            else:\n",
    "                cnt_not = 0 \n",
    "                for i, elem in enumerate(list_terms[term[2]]):\n",
    "                    if is_coeff_equal(term[1], elem[1]):\n",
    "                        list_terms[term[2]][i][0] += elem[0] # refactor coefficient\n",
    "                    else:\n",
    "                        cnt_not +=1 \n",
    "                if cnt_not == len(list_terms[term[2]]): list_terms[term[2]].append([term[0], term[1]]) # TODO can it be changed to ([term[0], term[1])?\n",
    "\n",
    "    return list_terms"
   ]
  },
  {
   "cell_type": "code",
   "execution_count": 131,
   "id": "c28af478",
   "metadata": {},
   "outputs": [
    {
     "data": {
      "text/plain": [
       "{'YXZ': [[-0.5j, '(g12)(g13)'], [0.5j, '(g12)(g23)'], [-0.5j, '(g13)(g23)']],\n",
       " 'XYZ': [[-0.5j, '(g12)(g23)'], [0.5j, '(g12)(g13)'], [-0.5j, '(g23)(g13)']],\n",
       " 'ZYX': [[-0.5j, '(g12)(g13)'], [-0.5j, '(g23)(g12)'], [0.5j, '(g23)(g13)']],\n",
       " 'YZX': [[-0.5j, '(g12)(g23)'], [-0.5j, '(g13)(g12)'], [0.5j, '(g13)(g23)']],\n",
       " 'XZY': [[-0.5j, '(g13)(g23)'], [0.5j, '(g13)(g12)'], [-0.5j, '(g23)(g12)']],\n",
       " 'ZXY': [[-0.5j, '(g13)(g12)'], [-0.5j, '(g23)(g13)'], [0.5j, '(g23)(g12)']]}"
      ]
     },
     "execution_count": 131,
     "metadata": {},
     "output_type": "execute_result"
    }
   ],
   "source": [
    "grouped_A3B3 = group_by_pauli_string(A3B3, 3)\n",
    "grouped_A3B3"
   ]
  },
  {
   "cell_type": "markdown",
   "id": "b6a894c8",
   "metadata": {},
   "source": [
    "This completes the discussion of the commutator evaluators.\n",
    "\n",
    "I will now describe how I use the methods discussed in this section to extract informations about the behaviour of the Trotter error scalings of my simulation."
   ]
  },
  {
   "cell_type": "markdown",
   "id": "08d29a61",
   "metadata": {},
   "source": [
    "## Single-step error\n",
    "To evaluate the upper bound for the single-step error of the simulation I need to compute expression $(4)$ for fixed $t=dt$ and fixed $N$."
   ]
  },
  {
   "cell_type": "markdown",
   "id": "68dae096",
   "metadata": {},
   "source": [
    "### First order Trotter\n",
    "Now I work on the numerical computation of Trotter error bound formulas. I'm able to compute and simplify each contribution present in $(4)$, but at this stage I have only symbolic expressions available.\n",
    "\n",
    "I start by preparing the symbolic expressions for the commutators for $N=3,\\dots,8$."
   ]
  },
  {
   "cell_type": "code",
   "execution_count": 132,
   "id": "ffc6e65a",
   "metadata": {},
   "outputs": [],
   "source": [
    "max_N = 8\n",
    "\n",
    "A3, B3, C3 = gen_Heisenberg_terms(3)\n",
    "A4, B4, C4 = gen_Heisenberg_terms(4)\n",
    "A5, B5, C5 = gen_Heisenberg_terms(5)\n",
    "A6, B6, C6 = gen_Heisenberg_terms(6)\n",
    "A7, B7, C7 = gen_Heisenberg_terms(7)\n",
    "A8, B8, C8 = gen_Heisenberg_terms(8)\n",
    "\n",
    "A3B3 = comm_lincombo(A3, B3)\n",
    "A3C3 = comm_lincombo(A3, C3)\n",
    "B3C3 = comm_lincombo(B3, C3)\n",
    "\n",
    "A4B4 = comm_lincombo(A4, B4)\n",
    "A4C4 = comm_lincombo(A4, C4)\n",
    "B4C4 = comm_lincombo(B4, C4)\n",
    "\n",
    "A5B5 = comm_lincombo(A5, B5)\n",
    "A5C5 = comm_lincombo(A5, C5)\n",
    "B5C5 = comm_lincombo(B5, C5)\n",
    "\n",
    "A6B6 = comm_lincombo(A6, B6)\n",
    "A6C6 = comm_lincombo(A6, C6)\n",
    "B6C6 = comm_lincombo(B6, C6)\n",
    "\n",
    "A7B7 = comm_lincombo(A7, B7)\n",
    "A7C7 = comm_lincombo(A7, C7)\n",
    "B7C7 = comm_lincombo(B7, C7)\n",
    "\n",
    "A8B8 = comm_lincombo(A8, B8)\n",
    "A8C8 = comm_lincombo(A8, C8)\n",
    "B8C8 = comm_lincombo(B8, C8)\n",
    "\n",
    "terms_A3B3 = group_by_pauli_string(A3B3, N=3)\n",
    "terms_A3C3 = group_by_pauli_string(A3C3, N=3)\n",
    "terms_B3C3 = group_by_pauli_string(B3C3, N=3)\n",
    "\n",
    "terms_A4B4 = group_by_pauli_string(A4B4, N=4)\n",
    "terms_A4C4 = group_by_pauli_string(A4C4, N=4)\n",
    "terms_B4C4 = group_by_pauli_string(B4C4, N=4)\n",
    "\n",
    "terms_A5B5 = group_by_pauli_string(A5B5, N=5)\n",
    "terms_A5C5 = group_by_pauli_string(A5C5, N=5)\n",
    "terms_B5C5 = group_by_pauli_string(B5C5, N=5)\n",
    "\n",
    "terms_A6B6 = group_by_pauli_string(A6B6, N=6)\n",
    "terms_A6C6 = group_by_pauli_string(A6C6, N=6)\n",
    "terms_B6C6 = group_by_pauli_string(B6C6, N=6)\n",
    "\n",
    "terms_A7B7 = group_by_pauli_string(A7B7, N=7)\n",
    "terms_A7C7 = group_by_pauli_string(A7C7, N=7)\n",
    "terms_B7C7 = group_by_pauli_string(B7C7, N=7)\n",
    "\n",
    "terms_A8B8 = group_by_pauli_string(A8B8, N=8)\n",
    "terms_A8C8 = group_by_pauli_string(A8C8, N=8)\n",
    "terms_B8C8 = group_by_pauli_string(B8C8, N=8)"
   ]
  },
  {
   "cell_type": "markdown",
   "id": "618ca9cb",
   "metadata": {},
   "source": [
    "I want to understand how I should numerically sum the various contributions in each commutator to provide a bound for the first order error.\n",
    "$$\n",
    "\\begin{split}\n",
    "& \\epsilon_1(dt)\\leq\\frac{dt^2}{2}\\left\\{\\|[B_N,A_N]\\|+\\|[C_N,A_N]\\|+\\|[C_N,B_N]\\|\\right\\} \\\\\n",
    "& \\qquad = \\frac{dt^2}{2}\\left\\{\\left\\|\\sum_{k\\in\\mathcal{D}_1^N}\\mathcal{G}_kP_k\\right\\|+\\left\\|\\sum_{k\\in\\mathcal{D}_2^N}\\mathcal{G}_kP_k\\right\\|+\\left\\|\\sum_{k\\in\\mathcal{D}_3^N}\\mathcal{G}_kP_k\\right\\|\\right\\} \\\\\n",
    "& \\qquad \\leq \\frac{dt^2}{2}\\left\\{\\sum_{k\\in\\mathcal{D}_1^N}|\\mathcal{G}_k|\\cancel{\\|P_k\\|}+\\sum_{k\\in\\mathcal{D}_2^N}|\\mathcal{G}_k|\\cancel{\\|P_k\\|}+\\sum_{k\\in\\mathcal{D}_3^N}|\\mathcal{G}_k|\\cancel{\\|P_k\\|}\\right\\} \\\\\n",
    "& \\qquad = \\frac{dt^2}{2}\\left\\{\\sum_{k\\in\\mathcal{D}_1^N}|\\mathcal{G}_k|+\\sum_{k\\in\\mathcal{D}_2^N}|\\mathcal{G}_k|+\\sum_{k\\in\\mathcal{D}_3^N}|\\mathcal{G}_k|\\right\\} \\tag{7}\\\\\n",
    "\\end{split}\n",
    "$$"
   ]
  },
  {
   "cell_type": "markdown",
   "id": "55d16b13",
   "metadata": {},
   "source": [
    "In the second step I represented the contributions to each term reflecting the output of the `group_by_pauli_string` function: $\\mathcal{D}_1^N$, $\\mathcal{D}_2^N$, $\\mathcal{D}_3^N$ represent the keys of the dictionary, to each of which a value $\\mathcal{G}_k$, given by some linear combination of powers of coefficients, is associated.\n",
    "\n",
    "In the third step I used that the spectral norm of a Pauli string is $1$.\n",
    "\n",
    "Now it's clear how to compute the first order Trotter error for fixed $N$, $dt$ and given a set of values for the coupling coefficients. The `fixed_t_commsum_T1` function does it."
   ]
  },
  {
   "cell_type": "code",
   "execution_count": 133,
   "id": "a6363e8a",
   "metadata": {},
   "outputs": [],
   "source": [
    "def fixed_t_commsum_T1(terms, couplings, t): \n",
    "    \"\"\"\n",
    "    terms (list of dicts): [{\"XYZ\": [[-0.5j, \"(g12)(g23)\"], ...], ...}, {\"XYZ\": [[0.5j, \"(g12)(g13)\"], ...], ...}]\n",
    "    couplings (dict): {\"g12\": 0.1, \"g13\": 0.2, ...}\n",
    "    t (float): time length of simulation\n",
    "    order (int): order of Trotter formula\n",
    "\n",
    "    return: value of first order Trotter error for a given set of couplings and time  \n",
    "    \"\"\"\n",
    "\n",
    "    def eval_couplings(coeff_str, coupl_dict):\n",
    "        split_str = coeff_str.split(\")(\")\n",
    "        split_str = [p.strip(')').strip('(') for p in split_str]\n",
    "\n",
    "        prod = 1\n",
    "        for term in split_str:\n",
    "            prod *= coupl_dict[term]\n",
    "            \n",
    "        return prod\n",
    "    \n",
    "    err_vl = 0\n",
    "\n",
    "    for term_dict in terms:\n",
    "        for _, terms in term_dict.items():\n",
    "            coeff = 0\n",
    "            for term in terms:\n",
    "                # if term[1] != '': coeff += float(str(term[0]).strip('j')) * eval_couplings(term[1], couplings)\n",
    "                if term[1] != '': coeff += abs(term[0]) * eval_couplings(term[1], couplings)\n",
    "\n",
    "            err_vl += abs(coeff)\n",
    "\n",
    "    err_vl = 0.5 * err_vl * t ** 2\n",
    "\n",
    "    return err_vl"
   ]
  },
  {
   "cell_type": "markdown",
   "id": "8f1df500",
   "metadata": {},
   "source": [
    "This function is designed to take as argument the dictionaries associated to the terms in $(4)$. The corresponding error value is then computed according to the logic of equation $(7)$."
   ]
  },
  {
   "cell_type": "code",
   "execution_count": 169,
   "id": "83e1d427",
   "metadata": {},
   "outputs": [
    {
     "data": {
      "image/png": "[encoded data removed]",
      "text/plain": [
       "<Figure size 629.921x393.701 with 1 Axes>"
      ]
     },
     "metadata": {},
     "output_type": "display_data"
    }
   ],
   "source": [
    "import numpy as np\n",
    "import matplotlib.pyplot as plt\n",
    "\n",
    "def create_coupling_dict(N, distribution=\"constant\", interval=(0.05, 0.95)):\n",
    "    \"\"\"\n",
    "    dim (int): number of qubits in the system.\n",
    "    distribution (str) (default: \"constant\"): distribution of couplings (if specified)\n",
    "    interval (tuple) (default: (0.05, 0.95)): interval in which coupling values are generated\n",
    "    \"\"\"\n",
    "    dic = {}\n",
    "    \n",
    "    if distribution == \"costant\":\n",
    "        for i in range(N):\n",
    "            for j in range(i+1, N):\n",
    "                dic[f\"g{i+1}{j+1}\"] = 0.1\n",
    "    elif distribution == \"uniform\":\n",
    "        for i in range(N):\n",
    "            for j in range(i+1, N):\n",
    "                dic[f\"g{i+1}{j+1}\"] = np.random.uniform(interval[0], interval[1])\n",
    "    else:\n",
    "        # TODO: implement narrow cone of forward peaked neutrinos distributions (see https://arxiv.org/pdf/2207.03189)\n",
    "        raise Exception(f\"Couplings of type \\\"{distribution}\\\" is not allowed\")\n",
    "    return dic\n",
    "\n",
    "couplings = create_coupling_dict(max_N, \"uniform\")\n",
    "\n",
    "dt_list = np.arange(1, 51) * 0.1\n",
    "error_dt_N3 = []\n",
    "\n",
    "for dt in dt_list:\n",
    "    error_dt_N3.append(fixed_t_commsum_T1([terms_A3B3, terms_A3C3, terms_B3C3], couplings, dt))\n",
    "\n",
    "fig, ax = plt.subplots(1, 1)\n",
    "fig.set_size_inches(16 / 2.54, 10 / 2.54)\n",
    "\n",
    "ax.scatter(dt_list, error_dt_N3, linestyle=\"--\")\n",
    "\n",
    "ax.set_title (r\"Comparison of first order Trotter error for $N=3$ and for varying $dt$.\")\n",
    "ax.set_xlabel(r\"$dt$\")\n",
    "ax.set_ylabel(r\"$\\varepsilon_1(dt)$\")\n",
    "\n",
    "# legend = ax.legend(loc=2, frameon=True, borderaxespad=0.8, fontsize=6)\n",
    "# legend.get_frame().set_facecolor('white')\n",
    "# legend.get_frame().set_alpha(1.0)\n",
    "# legend.get_frame().set_boxstyle(\"Square\")\n",
    "\n",
    "plt.grid()\n",
    "plt.tight_layout()\n",
    "plt.show()"
   ]
  },
  {
   "cell_type": "markdown",
   "id": "2473c06d",
   "metadata": {},
   "source": [
    "### $N=3$ comparison\n",
    "I have derived analitically expression $(7)$ for $N=3$. For the sake of testing my numerical routines, in the following code I compute the same expression.\n",
    "\n",
    "$$\n",
    "\\begin{split}\n",
    "    & [B_3,A_3]+[C_3,A_3]+[C_3,B_3] = \\frac{i}{2}\\Bigl\\{X_1Y_2Z_3\\left(g_{12}g_{13}-3g_{12}g_{23}+g_{13}g_{23}\\right)+X_1Z_2Y_3\\left(g_{12}g_{13}+g_{12}g_{23}-3g_{13}g_{23}\\right)+\\\\\n",
    "    & \\qquad+Y_1X_2Z_3\\left(-3g_{12}g_{13}+g_{12}g_{23}+g_{13}g_{23}\\right)+Y_1Z_2X_3\\left(-3g_{12}g_{13}+g_{12}g_{23}+g_{13}g_{23}\\right)+\\\\\n",
    "    & \\qquad+Z_1X_2Y_3\\left(g_{12}g_{13}+g_{12}g_{23}-3g_{13}g_{23}\\right)+Z_1Y_2X_3\\left(g_{12}g_{13}-3g_{12}g_{23}+g_{13}g_{23}\\right)\\Bigr\\}\n",
    "\\end{split}\n",
    "$$"
   ]
  },
  {
   "cell_type": "code",
   "execution_count": 135,
   "id": "2dfb5da0",
   "metadata": {},
   "outputs": [
    {
     "data": {
      "text/plain": [
       "{'YXZ': [[-1.5j, '(g12)(g13)'], [0.5j, '(g12)(g23)'], [0.5j, '(g13)(g23)']],\n",
       " 'XYZ': [[-1.5j, '(g12)(g23)'], [0.5j, '(g12)(g13)'], [0.5j, '(g13)(g23)']],\n",
       " 'ZYX': [[0.5j, '(g12)(g13)'], [-1.5j, '(g12)(g23)'], [0.5j, '(g13)(g23)']],\n",
       " 'YZX': [[0.5j, '(g12)(g23)'], [-1.5j, '(g12)(g13)'], [0.5j, '(g13)(g23)']],\n",
       " 'XZY': [[-1.5j, '(g13)(g23)'], [0.5j, '(g12)(g13)'], [0.5j, '(g12)(g23)']],\n",
       " 'ZXY': [[0.5j, '(g12)(g13)'], [-1.5j, '(g13)(g23)'], [0.5j, '(g12)(g23)']]}"
      ]
     },
     "execution_count": 135,
     "metadata": {},
     "output_type": "execute_result"
    }
   ],
   "source": [
    "def merge_terms_dicts(dict_list):\n",
    "    def canonicalize(term):\n",
    "        factors = term.replace(\")(\", \" \").replace(\"(\", \"\").replace(\")\", \"\").split()\n",
    "        factors = sorted(factors)\n",
    "        return \"(\" + \")(\".join(factors) + \")\"\n",
    "\n",
    "    result = {}\n",
    "\n",
    "    for d in dict_list:\n",
    "        for key, pairs in d.items():\n",
    "            if key not in result:\n",
    "                result[key] = {}\n",
    "\n",
    "            for coeff, term in pairs:\n",
    "                norm_term = canonicalize(term)\n",
    "                if norm_term in result[key]:\n",
    "                    result[key][norm_term] += coeff\n",
    "                else:\n",
    "                    result[key][norm_term] = coeff\n",
    "\n",
    "    for key in result:\n",
    "        result[key] = [[coeff, term] for term, coeff in result[key].items() if coeff != 0]\n",
    "\n",
    "    return result\n",
    "\n",
    "merged3 = merge_terms_dicts([terms_A3B3, terms_A3C3, terms_B3C3])\n",
    "merged3"
   ]
  },
  {
   "cell_type": "markdown",
   "id": "3a54bd81",
   "metadata": {},
   "source": [
    "The results are indeed equal."
   ]
  },
  {
   "cell_type": "markdown",
   "id": "00d92e29",
   "metadata": {},
   "source": [
    "## Decomposition of first order Trotter error\n",
    "Recall expression $(1)$. I assume that the function $e_1$ decomposes as\n",
    "$$\n",
    "e_1(N, dt, \\{g_{ij}, i,j=1,\\dots,N, i<j\\}) = n_1(N)\\cdot\\tau_1(dt)\\cdot G_1(\\{g_{ij}\\})\\qquad \\text{ILLEGAL (maybe)}\n",
    "$$\n",
    "As anticipated in $(1)$, I can make the additional assumption that each function is a power law. \n",
    "\n",
    "The goal of this section is to determine the first order Trotter error scaling by studying each component of the error separately.\n",
    "\n",
    "Consider expression $(4)$ for arbitrary N. I can massage it in a form that justifies my assumption about the structure of the $e_1$ function. \n",
    "$$\n",
    "\\begin{split}\n",
    "& \\frac{t^2}{2}\\left\\{\\|[B_N,A_N]\\|+\\|[C_N,A_N]\\|+\\|[C_N,B_N]\\|\\right\\} = \\frac{t^2}{2}\\left\\{\\left\\|[H_{XY}^N,H_{XZ}^N]\\right\\|+\\left\\|[H_{XY}^N,H_{YZ}^N]\\right\\|+\\left\\|[H_{XZ}^N,H_{YZ}^N]\\right\\|\\right\\} \\\\\n",
    "& \\qquad = \\frac{t^2}{8}\\Biggl\\{\\left\\|\\sum_{\\substack{p,q=1\\\\ p<q}}^N\\sum_{\\substack{m,n=1\\\\ m<n}}^N g_{pq}g_{mn}\\left([X_pX_q,Z_mZ_n]+[Z_pZ_q,X_mX_n]+[Y_pY_q,Z_mZ_n]\\right)\\right\\|+\\left\\|\\sum_{\\substack{p,q=1\\\\ p<q}}^N\\sum_{\\substack{m,n=1\\\\ m<n}}^N g_{pq}g_{mn}\\left([X_pX_q,Z_mZ_n]+[Z_pZ_q,X_mX_n]+[Y_pY_q,Z_mZ_n]\\right)\\right\\|+\\\\\n",
    "& \\qquad + \\left\\|\\sum_{\\substack{p,q=1\\\\ p<q}}^N\\sum_{\\substack{m,n=1\\\\ m<n}}^N g_{pq}g_{mn}\\left([X_pX_q,Z_mZ_n]+[Z_pZ_q,X_mX_n]+[Y_pY_q,Z_mZ_n]\\right)\\right\\|\\Biggr\\}\\\\\n",
    "\\end{split}\n",
    "$$\n",
    "Now call $\\Pi=max_{p,q,m,n}\\left(g_{pq}g_{mn}\\right)$, \n",
    "$$\n",
    "\\dots\n",
    "$$"
   ]
  },
  {
   "cell_type": "markdown",
   "id": "dc170eef",
   "metadata": {},
   "source": [
    "## Numerical analysis of single-step first order Trotter error scaling\n",
    "I fit the various components of the error factorization. \n",
    "\n",
    "### Fit of $dt$ scaling.\n",
    "Analyze time scaling of single step error moving in the space of the other parameters. I fit the error function fixing $N$ and the set of coupling constants $\\{g_{ij}\\}$. I then vary the values of the latter to explore the scaling behaviour in different scenarios. The fit function is given by:\n",
    "$$\n",
    "\\begin{split}\n",
    "& e_1(\\tilde{N}, dt, \\{\\tilde{g}_{ij}\\}) = C_3\\cdot (dt)^{\\mathcal{S}_3^\\alpha} \\\\\n",
    "& \\implies \\log(e_1) = C_3 + S_{3}^\\alpha\\cdot \\log(dt) \\\\\n",
    "\\end{split}\n",
    "$$\n",
    "where $C_3$ represents the contribution due to the number of qubits in the system and the coupling values.\n"
   ]
  },
  {
   "cell_type": "code",
   "execution_count": null,
   "id": "9e0fb823",
   "metadata": {},
   "outputs": [
    {
     "data": {
      "image/png": "[encoded data removed]",
      "text/plain": [
       "<Figure size 629.921x393.701 with 1 Axes>"
      ]
     },
     "metadata": {},
     "output_type": "display_data"
    }
   ],
   "source": [
    "import matplotlib\n",
    "import matplotlib.pyplot as plt\n",
    "import matplotlib.colors as mcolors  \n",
    "from matplotlib.offsetbox import AnchoredText\n",
    "from iminuit import Minuit\n",
    "from iminuit.cost import LeastSquares  \n",
    "\n",
    "def color_gradient(start, end, n):\n",
    "    \"\"\"Generate n hex colors from start to end.\"\"\"\n",
    "    start_rgb = np.array(mcolors.to_rgb(start))\n",
    "    end_rgb = np.array(mcolors.to_rgb(end))\n",
    "    return [mcolors.to_hex(start_rgb + (end_rgb - start_rgb) * i/(n-1)) for i in range(n)]\n",
    "\n",
    "values_N = np.arange(3,9)\n",
    "sim = 20\n",
    "\n",
    "def line(x, C, alpha):\n",
    "    return C + alpha*x\n",
    "\n",
    "fig, ax = plt.subplots(1, 1)\n",
    "fig.set_size_inches(16 / 2.54, 10 / 2.54)\n",
    "\n",
    "dt_list = np.arange(1,10) * 0.1\n",
    "\n",
    "colors = color_gradient(\"#ff0000\", \"#0000ff\", len(dt_list))\n",
    "colors_line = color_gradient(\"#ff0000dd\", \"#0000ffc7\", len(dt_list))\n",
    "\n",
    "err_vls = []\n",
    "for dt in dt_list:\n",
    "    couplings = create_coupling_dict(max_N, \"uniform\")\n",
    "    vls = []\n",
    "    vls.append(fixed_t_commsum_T1([terms_A3B3, terms_A3C3, terms_B3C3], couplings, dt))\n",
    "    vls.append(fixed_t_commsum_T1([terms_A4B4, terms_A4C4, terms_B4C4], couplings, dt)) \n",
    "    vls.append(fixed_t_commsum_T1([terms_A5B5, terms_A5C5, terms_B5C5], couplings, dt)) \n",
    "    vls.append(fixed_t_commsum_T1([terms_A6B6, terms_A6C6, terms_B6C6], couplings, dt)) \n",
    "    vls.append(fixed_t_commsum_T1([terms_A7B7, terms_A7C7, terms_B7C7], couplings, dt)) \n",
    "    vls.append(fixed_t_commsum_T1([terms_A8B8, terms_A8C8, terms_B8C8], couplings, dt)) \n",
    "    err_vls.append(vls)\n",
    "\n",
    "log_N_vls = np.log(values_N)\n",
    "log_err_vls = [np.log(vls) for vls in err_vls]\n",
    "m_objects = []\n",
    "\n",
    "for i, log_vls in enumerate(log_err_vls): \n",
    "    ls_obj = LeastSquares(log_N_vls, log_vls, 0*log_N_vls + 0.001, line)\n",
    "    m_obj = Minuit(ls_obj, C=1, alpha=1)\n",
    "    m_obj.migrad()\n",
    "    m_obj.hesse()\n",
    "    m_objects.append(m_obj)\n",
    "\n",
    "for i, log_vls in enumerate(log_err_vls): \n",
    "    \n",
    "\n",
    "ax.set_title (r\"Comparison of first order Trotter error for $N=3$ and for varying $dt$.\")\n",
    "ax.set_xlabel(r\"$dt$\")\n",
    "ax.set_ylabel(r\"$\\varepsilon_1(dt)$\")\n",
    "ax.set_xlim(np.min(log_N_vls), np.max(log_N_vls))\n",
    "\n",
    "plt.show()\n"
   ]
  }
 ],
 "metadata": {
  "kernelspec": {
   "display_name": "Python 3",
   "language": "python",
   "name": "python3"
  },
  "language_info": {
   "codemirror_mode": {
    "name": "ipython",
    "version": 3
   },
   "file_extension": ".py",
   "mimetype": "text/x-python",
   "name": "python",
   "nbconvert_exporter": "python",
   "pygments_lexer": "ipython3",
   "version": "3.13.0"
  }
 },
 "nbformat": 4,
 "nbformat_minor": 5
}
